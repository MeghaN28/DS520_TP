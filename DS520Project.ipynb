{
  "cells": [
    {
      "cell_type": "code",
      "execution_count": 1,
      "metadata": {
        "colab": {
          "base_uri": "https://localhost:8080/"
        },
        "id": "pUASjmdiTWJF",
        "outputId": "f5931ecb-f866-4bd8-a57d-53b2db0c6308"
      },
      "outputs": [
        {
          "ename": "NameError",
          "evalue": "name 'install' is not defined",
          "output_type": "error",
          "traceback": [
            "\u001b[1;31m---------------------------------------------------------------------------\u001b[0m",
            "\u001b[1;31mNameError\u001b[0m                                 Traceback (most recent call last)",
            "Cell \u001b[1;32mIn[1], line 2\u001b[0m\n\u001b[0;32m      1\u001b[0m \u001b[38;5;66;03m# Install packages\u001b[39;00m\n\u001b[1;32m----> 2\u001b[0m \u001b[43minstall\u001b[49m\u001b[38;5;241m.\u001b[39mpackages(\u001b[38;5;124m\"\u001b[39m\u001b[38;5;124mcaret\u001b[39m\u001b[38;5;124m\"\u001b[39m)\n\u001b[0;32m      4\u001b[0m \u001b[38;5;66;03m# Load required library\u001b[39;00m\n\u001b[0;32m      5\u001b[0m library(caret)\n",
            "\u001b[1;31mNameError\u001b[0m: name 'install' is not defined"
          ]
        }
      ],
      "source": [
        "# Install packages\n",
        "install.packages(\"caret\")\n",
        "\n",
        "# Load required library\n",
        "library(caret)"
      ]
    },
    {
      "cell_type": "code",
      "execution_count": null,
      "metadata": {
        "colab": {
          "base_uri": "https://localhost:8080/",
          "height": 1000
        },
        "id": "oInzUg2JVOwr",
        "outputId": "3a7aa047-6a3d-457e-b2ce-3f9278bb71a8"
      },
      "outputs": [
        {
          "name": "stdout",
          "output_type": "stream",
          "text": [
            "'data.frame':\t6862 obs. of  79 variables:\n",
            " $ id                                          : num  6606 9419 9596 11012 25002 ...\n",
            " $ listing_url                                 : chr  \"https://www.airbnb.com/rooms/6606\" \"https://www.airbnb.com/rooms/9419\" \"https://www.airbnb.com/rooms/9596\" \"https://www.airbnb.com/rooms/11012\" ...\n",
            " $ scrape_id                                   : num  2.03e+13 2.03e+13 2.03e+13 2.03e+13 2.03e+13 ...\n",
            " $ last_scraped                                : chr  \"6/22/2025\" \"6/22/2025\" \"6/22/2025\" \"6/22/2025\" ...\n",
            " $ source                                      : chr  \"city scrape\" \"city scrape\" \"previous scrape\" \"city scrape\" ...\n",
            " $ name                                        : chr  \"Fab, private seattle urban cottage!\" \"Glorious sun room w/ memory foambed\" \"the down home , spacious, central and fab!\" \"the orange house, quiet 'n central\" ...\n",
            " $ description                                 : chr  \"This tiny cottage is only 15x10, but it has everything you need..including a garden just outside!  Newer queen bed, down pillow \"This beautiful double room features sun filled oasis (room darkening shades provided) with a sleeping room (Full size bed) ward \"We are in a great neighborhood, quiet, full of gardens, and walkability score ,94!   Walk to downtown wallingford w/ its 20+ re \"\" ...\n",
            " $ neighborhood_overview                       : chr  \"A peaceful yet highly accessible neighborhood, gardens galore.  The university district, Fremont, and wallingford are all walka \"Lots of restaurants (see our guide book) bars,coffee shops and antique /eclectic stores including the Georgetown Trailer Park m \"if you arrive early for check in at 3,  I recommend Archie Mcfee's for joke gifts for all occasions! ... and Tutti Bella is fab \"\" ...\n",
            " $ picture_url                                 : chr  \"https://a0.muscache.com/pictures/45742/21116d7d_original.jpg\" \"https://a0.muscache.com/pictures/56645186/e5fb34c9_original.jpg\" \"https://a0.muscache.com/pictures/665252/102d18d1_original.jpg\" \"https://a0.muscache.com/pictures/682034/54bc2752_original.jpg\" ...\n",
            " $ host_id                                     : int  14942 30559 14942 14942 102684 601600 2438665 1037115 209571 30559 ...\n",
            " $ host_url                                    : chr  \"https://www.airbnb.com/users/show/14942\" \"https://www.airbnb.com/users/show/30559\" \"https://www.airbnb.com/users/show/14942\" \"https://www.airbnb.com/users/show/14942\" ...\n",
            " $ host_name                                   : chr  \"Joyce\" \"Angielena\" \"Joyce\" \"Joyce\" ...\n",
            " $ host_since                                  : chr  \"4/26/2009\" \"8/9/2009\" \"4/26/2009\" \"4/26/2009\" ...\n",
            " $ host_location                               : chr  \"Seattle, WA\" \"Seattle, WA\" \"Seattle, WA\" \"Seattle, WA\" ...\n",
            " $ host_about                                  : chr  \"I am a therapist/innkeeper.I know my city well and am know as a fab concierge. I love art, the outdoors, books, music and dogs. \"   I am a visual artist who is  the  director of a community  Arts Center, art studios and guest rooms co-mingle to create a fu \"I am a therapist/innkeeper.I know my city well and am know as a fab concierge. I love art, the outdoors, books, music and dogs. \"I am a therapist/innkeeper.I know my city well and am know as a fab concierge. I love art, the outdoors, books, music and dogs. ...\n",
            " $ host_response_time                          : chr  \"within a few hours\" \"within a few hours\" \"within a few hours\" \"within a few hours\" ...\n",
            " $ host_response_rate                          : chr  \"100%\" \"100%\" \"100%\" \"100%\" ...\n",
            " $ host_acceptance_rate                        : chr  \"95%\" \"98%\" \"95%\" \"95%\" ...\n",
            " $ host_is_superhost                           : chr  \"t\" \"t\" \"t\" \"t\" ...\n",
            " $ host_thumbnail_url                          : chr  \"https://a0.muscache.com/im/users/14942/profile_pic/1308204367/original.jpg?aki_policy=profile_small\" \"https://a0.muscache.com/im/pictures/user/User-30559/original/a3538276-6780-403c-a5fa-0b46889786b7.jpeg?aki_poli\"| __truncated__ \"https://a0.muscache.com/im/users/14942/profile_pic/1308204367/original.jpg?aki_policy=profile_small\" \"https://a0.muscache.com/im/users/14942/profile_pic/1308204367/original.jpg?aki_policy=profile_small\" ...\n",
            " $ host_picture_url                            : chr  \"https://a0.muscache.com/im/users/14942/profile_pic/1308204367/original.jpg?aki_policy=profile_x_medium\" \"https://a0.muscache.com/im/pictures/user/User-30559/original/a3538276-6780-403c-a5fa-0b46889786b7.jpeg?aki_poli\"| __truncated__ \"https://a0.muscache.com/im/users/14942/profile_pic/1308204367/original.jpg?aki_policy=profile_x_medium\" \"https://a0.muscache.com/im/users/14942/profile_pic/1308204367/original.jpg?aki_policy=profile_x_medium\" ...\n",
            " $ host_neighbourhood                          : chr  \"Wallingford\" \"Georgetown\" \"Wallingford\" \"Wallingford\" ...\n",
            " $ host_listings_count                         : int  5 10 5 5 1 2 4 2 1 10 ...\n",
            " $ host_total_listings_count                   : int  5 11 5 5 2 2 6 6 2 11 ...\n",
            " $ host_verifications                          : chr  \"['email', 'phone']\" \"['email', 'phone']\" \"['email', 'phone']\" \"['email', 'phone']\" ...\n",
            " $ host_has_profile_pic                        : chr  \"t\" \"t\" \"t\" \"t\" ...\n",
            " $ host_identity_verified                      : chr  \"t\" \"t\" \"t\" \"t\" ...\n",
            " $ neighbourhood                               : chr  \"Neighborhood highlights\" \"Neighborhood highlights\" \"Neighborhood highlights\" \"\" ...\n",
            " $ neighbourhood_cleansed                      : chr  \"Wallingford\" \"Georgetown\" \"Wallingford\" \"Wallingford\" ...\n",
            " $ neighbourhood_group_cleansed                : chr  \"Other neighborhoods\" \"Other neighborhoods\" \"Other neighborhoods\" \"Other neighborhoods\" ...\n",
            " $ latitude                                    : num  47.7 47.6 47.7 47.7 47.7 ...\n",
            " $ longitude                                   : num  -122 -122 -122 -122 -122 ...\n",
            " $ property_type                               : chr  \"Entire guesthouse\" \"Private room in rental unit\" \"Entire rental unit\" \"Entire home\" ...\n",
            " $ room_type                                   : chr  \"Entire home/apt\" \"Private room\" \"Entire home/apt\" \"Entire home/apt\" ...\n",
            " $ accommodates                                : int  1 2 4 8 4 3 2 4 2 2 ...\n",
            " $ bathrooms                                   : num  1 3 NA 2 1 1 4 1.5 1 3 ...\n",
            " $ bathrooms_text                              : chr  \"1 bath\" \"3 shared baths\" \"1 bath\" \"2 baths\" ...\n",
            " $ bedrooms                                    : int  1 1 1 3 1 2 1 3 1 1 ...\n",
            " $ beds                                        : int  1 1 NA 3 2 2 2 4 1 1 ...\n",
            " $ amenities                                   : chr  \"[\\\"Wifi\\\", \\\"Hangers\\\", \\\"Shampoo\\\", \\\"Iron\\\", \\\"Free parking on premises\\\", \\\"Self check-in\\\", \\\"Microwave\\\", \"| __truncated__ \"[\\\"Electric stove\\\", \\\"Toaster\\\", \\\"Wine glasses\\\", \\\"Wifi\\\", \\\"Hangers\\\", \\\"Luggage dropoff allowed\\\", \\\"Shamp\"| __truncated__ \"[\\\"Wifi\\\", \\\"Hangers\\\", \\\"Shampoo\\\", \\\"Iron\\\", \\\"Oven\\\", \\\"Self check-in\\\", \\\"Microwave\\\", \\\"Coffee maker\\\", \\\"\"| __truncated__ \"[\\\"Portable fans\\\", \\\"Sound system\\\", \\\"Crib\\\", \\\"Wifi\\\", \\\"Indoor fireplace\\\", \\\"Hangers\\\", \\\"Shampoo\\\", \\\"Iro\"| __truncated__ ...\n",
            " $ price                                       : int  123 88 NA 310 96 105 72 300 70 91 ...\n",
            " $ minimum_nights                              : int  30 2 30 30 2 3 30 30 1 2 ...\n",
            " $ maximum_nights                              : int  1125 90 200 120 30 30 365 125 21 90 ...\n",
            " $ minimum_minimum_nights                      : int  30 2 30 30 1 3 30 30 1 2 ...\n",
            " $ maximum_minimum_nights                      : int  30 2 30 30 2 3 30 30 1 2 ...\n",
            " $ minimum_maximum_nights                      : int  1125 90 200 120 1125 30 365 125 21 90 ...\n",
            " $ maximum_maximum_nights                      : int  1125 90 200 120 1125 30 365 125 21 90 ...\n",
            " $ minimum_nights_avg_ntm                      : num  30 2 30 30 2 3 30 30 1 2 ...\n",
            " $ maximum_nights_avg_ntm                      : num  1125 90 200 120 1125 ...\n",
            " $ calendar_updated                            : logi  NA NA NA NA NA NA ...\n",
            " $ has_availability                            : chr  \"t\" \"t\" \"t\" \"t\" ...\n",
            " $ availability_30                             : int  0 13 0 21 4 6 21 0 5 10 ...\n",
            " $ availability_60                             : int  8 16 1 32 11 21 31 0 5 40 ...\n",
            " $ availability_90                             : int  28 36 1 62 21 35 32 0 5 70 ...\n",
            " $ availability_365                            : int  117 311 1 151 186 310 307 135 237 345 ...\n",
            " $ calendar_last_scraped                       : chr  \"6/22/2025\" \"6/22/2025\" \"6/22/2025\" \"6/22/2025\" ...\n",
            " $ number_of_reviews                           : int  161 212 96 98 1119 583 77 91 399 305 ...\n",
            " $ number_of_reviews_ltm                       : int  1 15 0 0 62 31 1 0 22 27 ...\n",
            " $ number_of_reviews_l30d                      : int  0 2 0 0 7 6 1 0 2 1 ...\n",
            " $ availability_eoy                            : int  117 139 1 151 110 138 135 58 66 174 ...\n",
            " $ number_of_reviews_ly                        : int  1 14 0 0 64 29 0 0 15 32 ...\n",
            " $ estimated_occupancy_l365d                   : int  60 90 0 0 255 186 60 0 132 162 ...\n",
            " $ estimated_revenue_l365d                     : int  7380 7920 NA 0 24480 19530 4320 0 9240 14742 ...\n",
            " $ first_review                                : chr  \"7/17/2009\" \"7/30/2010\" \"6/15/2011\" \"1/31/2010\" ...\n",
            " $ last_review                                 : chr  \"9/7/2024\" \"6/7/2025\" \"9/28/2020\" \"3/22/2021\" ...\n",
            " $ review_scores_rating                        : num  4.6 4.72 4.56 4.79 4.93 4.94 4.77 4.66 4.83 4.79 ...\n",
            " $ review_scores_accuracy                      : num  4.67 4.79 4.55 4.82 4.92 4.96 4.7 4.74 4.76 4.77 ...\n",
            " $ review_scores_cleanliness                   : num  4.67 4.74 4.5 4.61 4.91 4.84 4.86 4.7 4.79 4.82 ...\n",
            " $ review_scores_checkin                       : num  4.83 4.92 4.8 4.78 4.98 4.98 4.95 4.89 4.94 4.84 ...\n",
            " $ review_scores_communication                 : num  4.77 4.89 4.66 4.72 4.98 4.98 4.87 4.85 4.95 4.89 ...\n",
            " $ review_scores_location                      : num  4.88 4.68 4.91 4.86 4.9 4.97 4.57 4.68 4.88 4.73 ...\n",
            " $ review_scores_value                         : num  4.57 4.67 4.56 4.74 4.9 4.91 4.75 4.61 4.81 4.81 ...\n",
            " $ license                                     : chr  \"str-opli-19-002622\" \"Exempt\" \"STR -OPLI-19-002622\" \"str-opli-19-002622\" ...\n",
            " $ instant_bookable                            : chr  \"f\" \"f\" \"f\" \"f\" ...\n",
            " $ calculated_host_listings_count              : int  3 10 3 3 1 2 4 2 1 10 ...\n",
            " $ calculated_host_listings_count_entire_homes : int  3 0 3 3 1 2 0 2 0 0 ...\n",
            " $ calculated_host_listings_count_private_rooms: int  0 10 0 0 0 0 4 0 1 10 ...\n",
            " $ calculated_host_listings_count_shared_rooms : int  0 0 0 0 0 0 0 0 0 0 ...\n",
            " $ reviews_per_month                           : num  0.83 1.17 0.56 0.52 6.06 3.41 0.57 0.57 2.41 1.84 ...\n"
          ]
        },
        {
          "data": {
            "text/html": [
              "<table class=\"dataframe\">\n",
              "<caption>A data.frame: 6 × 79</caption>\n",
              "<thead>\n",
              "\t<tr><th></th><th scope=col>id</th><th scope=col>listing_url</th><th scope=col>scrape_id</th><th scope=col>last_scraped</th><th scope=col>source</th><th scope=col>name</th><th scope=col>description</th><th scope=col>neighborhood_overview</th><th scope=col>picture_url</th><th scope=col>host_id</th><th scope=col>⋯</th><th scope=col>review_scores_communication</th><th scope=col>review_scores_location</th><th scope=col>review_scores_value</th><th scope=col>license</th><th scope=col>instant_bookable</th><th scope=col>calculated_host_listings_count</th><th scope=col>calculated_host_listings_count_entire_homes</th><th scope=col>calculated_host_listings_count_private_rooms</th><th scope=col>calculated_host_listings_count_shared_rooms</th><th scope=col>reviews_per_month</th></tr>\n",
              "\t<tr><th></th><th scope=col>&lt;dbl&gt;</th><th scope=col>&lt;chr&gt;</th><th scope=col>&lt;dbl&gt;</th><th scope=col>&lt;chr&gt;</th><th scope=col>&lt;chr&gt;</th><th scope=col>&lt;chr&gt;</th><th scope=col>&lt;chr&gt;</th><th scope=col>&lt;chr&gt;</th><th scope=col>&lt;chr&gt;</th><th scope=col>&lt;int&gt;</th><th scope=col>⋯</th><th scope=col>&lt;dbl&gt;</th><th scope=col>&lt;dbl&gt;</th><th scope=col>&lt;dbl&gt;</th><th scope=col>&lt;chr&gt;</th><th scope=col>&lt;chr&gt;</th><th scope=col>&lt;int&gt;</th><th scope=col>&lt;int&gt;</th><th scope=col>&lt;int&gt;</th><th scope=col>&lt;int&gt;</th><th scope=col>&lt;dbl&gt;</th></tr>\n",
              "</thead>\n",
              "<tbody>\n",
              "\t<tr><th scope=row>1</th><td><span style=white-space:pre-wrap>  6606</span></td><td><span style=white-space:pre-wrap>https://www.airbnb.com/rooms/6606  </span></td><td>2.02506e+13</td><td>6/22/2025</td><td><span style=white-space:pre-wrap>city scrape    </span></td><td><span style=white-space:pre-wrap>Fab, private seattle urban cottage!       </span></td><td><span style=white-space:pre-wrap>This tiny cottage is only 15x10, but it has everything you need..including a garden just outside!  Newer queen bed, down pillows/ duvet, tv, closet w iron and mini board, large dresser, fold down table and chair. The kitchenette has micro, toaster oven, mini fridge, coffee, tea n snacks! ( hot plate too under sink)  The  combo shower, toilet,European style   is across from kitchen separated by a TALL shower curtain. &lt;br /&gt;Our walking score is 95, with 2 neighborhoods w/in a mile, buses on corner.</span></td><td><span style=white-space:pre-wrap>A peaceful yet highly accessible neighborhood, gardens galore.  The university district, Fremont, and wallingford are all walkable.( 5 Blocks from wallingford's business district.)                                                                                                                                                                                                                                                                                                                                                                                                                                                                                                                                                                                                                                                                                                                                                                                                                                                    </span></td><td><span style=white-space:pre-wrap>https://a0.muscache.com/pictures/45742/21116d7d_original.jpg   </span></td><td> 14942</td><td>⋯</td><td>4.77</td><td>4.88</td><td>4.57</td><td>str-opli-19-002622 </td><td>f</td><td> 3</td><td>3</td><td> 0</td><td>0</td><td>0.83</td></tr>\n",
              "\t<tr><th scope=row>2</th><td><span style=white-space:pre-wrap>  9419</span></td><td><span style=white-space:pre-wrap>https://www.airbnb.com/rooms/9419  </span></td><td>2.02506e+13</td><td>6/22/2025</td><td><span style=white-space:pre-wrap>city scrape    </span></td><td><span style=white-space:pre-wrap>Glorious sun room w/ memory foambed       </span></td><td><span style=white-space:pre-wrap>This beautiful double room features sun filled oasis (room darkening shades provided) with a sleeping room (Full size bed) wardrobe and a second room that features a day bed, work desk and  your own refrigerator. On a major bus line (124) . Room is located above a pool hall and two bars / restaurants (good food) We are in a creative arts district just minutes away from downtown Seattle.  Great place for a couple, parents (day bed is big enough for a full grown person too. We have A/C and heat    </span></td><td><span style=white-space:pre-wrap>Lots of restaurants (see our guide book) bars,coffee shops and antique /eclectic stores including the Georgetown Trailer Park mall filled with curiosities (open on weekends)We also have a huge parking lot and busses right across the street. This neighborhood is still a tiny bit gritty but also very safe and honestly more sparkly than a few years ago. Come see it for yourself&lt;br /&gt;Industrial Arts district meets thriving commercial meets victorian era esthetics&lt;br /&gt;&lt;br /&gt;A little grit,a lot of love and a burgeoning arts community. Easy 15 minute bus ride to Pike Place Market,the Big Wheel and Seattle Center and transportation to points beyond like Ballard locks,university district and Bellevue&lt;br /&gt;A little grit, and allot of love have resurrected  this neighborhood and arts community. Easy 15 minute bus ride to Pike Place Market, the Big Wheel, the waterfront parks and the  Seattle Center and transportation to points beyond like Ballard locks, University district and Bellevue&lt;br /&gt;#Cli</span></td><td>https://a0.muscache.com/pictures/56645186/e5fb34c9_original.jpg</td><td> 30559</td><td>⋯</td><td>4.89</td><td>4.68</td><td>4.67</td><td><span style=white-space:pre-wrap>Exempt             </span></td><td>f</td><td>10</td><td>0</td><td>10</td><td>0</td><td>1.17</td></tr>\n",
              "\t<tr><th scope=row>3</th><td>  9596</td><td>https://www.airbnb.com/rooms/9596  </td><td>2.02506e+13</td><td>6/22/2025</td><td>previous scrape</td><td>the down home , spacious, central and fab!</td><td>We are in a great neighborhood, quiet, full of gardens, and walkability score ,94!   Walk to downtown wallingford w/ its 20+ restaurants, movies, shops just 5 blocks away. we are 6 blk.s n. of gasworks park and the burke gilman trail,...Or you can walk .8 of a mile to Fremont,2 miles to downtown, 2 miles to the university district, ethnic restaurants, book stores and thrifting galore... like I said, central!                                                                                          </td><td>if you arrive early for check in at 3,  I recommend Archie Mcfee's for joke gifts for all occasions! ... and Tutti Bella is fab pizza both blocks away 44 n stone, 45th and stone.  There is always Gasworks park,( great views) and the essential bakery for lunch ,34th and woodlawn...a picnic?!                                                                                                                                                                                                                                                                                                                                                                                                                                                                                                                                                                                                                                                                                                                                     </td><td>https://a0.muscache.com/pictures/665252/102d18d1_original.jpg  </td><td> 14942</td><td>⋯</td><td>4.66</td><td>4.91</td><td>4.56</td><td>STR -OPLI-19-002622</td><td>f</td><td> 3</td><td>3</td><td> 0</td><td>0</td><td>0.56</td></tr>\n",
              "\t<tr><th scope=row>4</th><td> 11012</td><td>https://www.airbnb.com/rooms/11012 </td><td>2.02506e+13</td><td>6/22/2025</td><td>city scrape    </td><td>the orange house, quiet 'n central        </td><td>                                                                                                                                                                                                                                                                                                                                                                                                                                                                                                                     </td><td>                                                                                                                                                                                                                                                                                                                                                                                                                                                                                                                                                                                                                                                                                                                                                                                                                                                                                                                                                                                                                                        </td><td>https://a0.muscache.com/pictures/682034/54bc2752_original.jpg  </td><td> 14942</td><td>⋯</td><td>4.72</td><td>4.86</td><td>4.74</td><td>str-opli-19-002622 </td><td>f</td><td> 3</td><td>3</td><td> 0</td><td>0</td><td>0.52</td></tr>\n",
              "\t<tr><th scope=row>5</th><td> 25002</td><td>https://www.airbnb.com/rooms/25002 </td><td>2.02506e+13</td><td>6/22/2025</td><td><span style=white-space:pre-wrap>city scrape    </span></td><td><span style=white-space:pre-wrap>Beautiful Private  Spot in North Ballard  </span></td><td><span style=white-space:pre-wrap>-Great eating , Delancey, Fat Hen, 3 blocks away  more a little farther&lt;br /&gt;-center of Ballard an easy 15 minute walk &lt;br /&gt;-Ballard breweries a mile walk away&lt;br /&gt;-great parks within easy walking distance &lt;br /&gt;-free parking in driveway and plenty of free street parking &lt;br /&gt;-Broadband fast WiFi&lt;br /&gt;- Smart HD tv  YOUTUBE TV,  HBO &lt;br /&gt;-fridge, microwave, toaster, kettle, dishes and snacks &lt;br /&gt;-Queen bed and sofa bed &lt;br /&gt; full bath                                                        </span></td><td><span style=white-space:pre-wrap>Great walking neighborhood!  We are in between Ballard and Phinney Ridge, with  easy access to great North Seattle spots and quick access to Downtown Seattle as well.                                                                                                                                                                                                                                                                                                                                                                                                                                                                                                                                                                                                                                                                                                                                                                                                                                                                  </span></td><td><span style=white-space:pre-wrap>https://a0.muscache.com/pictures/491561/cf5270cc_original.jpg  </span></td><td>102684</td><td>⋯</td><td>4.98</td><td>4.90</td><td>4.90</td><td>STR-OPLI-19-002617 </td><td>t</td><td> 1</td><td>1</td><td> 0</td><td>0</td><td>6.06</td></tr>\n",
              "\t<tr><th scope=row>6</th><td>119103</td><td>https://www.airbnb.com/rooms/119103</td><td>2.02506e+13</td><td>6/22/2025</td><td><span style=white-space:pre-wrap>city scrape    </span></td><td><span style=white-space:pre-wrap>Teeny Tiny Guestyhouse!                   </span></td><td><span style=white-space:pre-wrap>It's a Teeny Tiny Guesthouse!  Enter the words \"tiny guesthouse tour\" in your search engine or follow the instructions in the 2nd photo to see the video.  Trust me, it's totally worth it!  Also, click on the photo for more photos.  :)&lt;br /&gt;The price is the price.  No hidden extra \"cleaning\" charges!  Those are for the hosts who want to scam you.  But that's not really my thing.  Trust me, have I ever lied to you?                                                                                     </span></td><td><span style=white-space:pre-wrap>Fremont is about a 10 minute bus ride from downtown.  Seattle lives in its neighborhoods and this is one of it's best ones.  From my place you can walk 2 blocks into the center of things where you can find enough to entertain you for days on end.  Want to go up to Ballard, over to Gasworks Park, or downtown?  Grab a bike and be anywhere in 10-15 minutes!                                                                                                                                                                                                                                                                                                                                                                                                                                                                                                                                                                                                                                                                    </span></td><td>https://a0.muscache.com/pictures/5941732/bd8f401a_original.jpg </td><td>601600</td><td>⋯</td><td>4.98</td><td>4.97</td><td>4.91</td><td>STR-OPLI-19-000772 </td><td>f</td><td> 2</td><td>2</td><td> 0</td><td>0</td><td>3.41</td></tr>\n",
              "</tbody>\n",
              "</table>\n"
            ],
            "text/latex": [
              "A data.frame: 6 × 79\n",
              "\\begin{tabular}{r|lllllllllllllllllllll}\n",
              "  & id & listing\\_url & scrape\\_id & last\\_scraped & source & name & description & neighborhood\\_overview & picture\\_url & host\\_id & ⋯ & review\\_scores\\_communication & review\\_scores\\_location & review\\_scores\\_value & license & instant\\_bookable & calculated\\_host\\_listings\\_count & calculated\\_host\\_listings\\_count\\_entire\\_homes & calculated\\_host\\_listings\\_count\\_private\\_rooms & calculated\\_host\\_listings\\_count\\_shared\\_rooms & reviews\\_per\\_month\\\\\n",
              "  & <dbl> & <chr> & <dbl> & <chr> & <chr> & <chr> & <chr> & <chr> & <chr> & <int> & ⋯ & <dbl> & <dbl> & <dbl> & <chr> & <chr> & <int> & <int> & <int> & <int> & <dbl>\\\\\n",
              "\\hline\n",
              "\t1 &   6606 & https://www.airbnb.com/rooms/6606   & 2.02506e+13 & 6/22/2025 & city scrape     & Fab, private seattle urban cottage!        & This tiny cottage is only 15x10, but it has everything you need..including a garden just outside!  Newer queen bed, down pillows/ duvet, tv, closet w iron and mini board, large dresser, fold down table and chair. The kitchenette has micro, toaster oven, mini fridge, coffee, tea n snacks! ( hot plate too under sink)  The  combo shower, toilet,European style   is across from kitchen separated by a TALL shower curtain. <br />Our walking score is 95, with 2 neighborhoods w/in a mile, buses on corner. & A peaceful yet highly accessible neighborhood, gardens galore.  The university district, Fremont, and wallingford are all walkable.( 5 Blocks from wallingford's business district.)                                                                                                                                                                                                                                                                                                                                                                                                                                                                                                                                                                                                                                                                                                                                                                                                                                                     & https://a0.muscache.com/pictures/45742/21116d7d\\_original.jpg    &  14942 & ⋯ & 4.77 & 4.88 & 4.57 & str-opli-19-002622  & f &  3 & 3 &  0 & 0 & 0.83\\\\\n",
              "\t2 &   9419 & https://www.airbnb.com/rooms/9419   & 2.02506e+13 & 6/22/2025 & city scrape     & Glorious sun room w/ memory foambed        & This beautiful double room features sun filled oasis (room darkening shades provided) with a sleeping room (Full size bed) wardrobe and a second room that features a day bed, work desk and  your own refrigerator. On a major bus line (124) . Room is located above a pool hall and two bars / restaurants (good food) We are in a creative arts district just minutes away from downtown Seattle.  Great place for a couple, parents (day bed is big enough for a full grown person too. We have A/C and heat     & Lots of restaurants (see our guide book) bars,coffee shops and antique /eclectic stores including the Georgetown Trailer Park mall filled with curiosities (open on weekends)We also have a huge parking lot and busses right across the street. This neighborhood is still a tiny bit gritty but also very safe and honestly more sparkly than a few years ago. Come see it for yourself<br />Industrial Arts district meets thriving commercial meets victorian era esthetics<br /><br />A little grit,a lot of love and a burgeoning arts community. Easy 15 minute bus ride to Pike Place Market,the Big Wheel and Seattle Center and transportation to points beyond like Ballard locks,university district and Bellevue<br />A little grit, and allot of love have resurrected  this neighborhood and arts community. Easy 15 minute bus ride to Pike Place Market, the Big Wheel, the waterfront parks and the  Seattle Center and transportation to points beyond like Ballard locks, University district and Bellevue<br />\\#Cli & https://a0.muscache.com/pictures/56645186/e5fb34c9\\_original.jpg &  30559 & ⋯ & 4.89 & 4.68 & 4.67 & Exempt              & f & 10 & 0 & 10 & 0 & 1.17\\\\\n",
              "\t3 &   9596 & https://www.airbnb.com/rooms/9596   & 2.02506e+13 & 6/22/2025 & previous scrape & the down home , spacious, central and fab! & We are in a great neighborhood, quiet, full of gardens, and walkability score ,94!   Walk to downtown wallingford w/ its 20+ restaurants, movies, shops just 5 blocks away. we are 6 blk.s n. of gasworks park and the burke gilman trail,...Or you can walk .8 of a mile to Fremont,2 miles to downtown, 2 miles to the university district, ethnic restaurants, book stores and thrifting galore... like I said, central!                                                                                           & if you arrive early for check in at 3,  I recommend Archie Mcfee's for joke gifts for all occasions! ... and Tutti Bella is fab pizza both blocks away 44 n stone, 45th and stone.  There is always Gasworks park,( great views) and the essential bakery for lunch ,34th and woodlawn...a picnic?!                                                                                                                                                                                                                                                                                                                                                                                                                                                                                                                                                                                                                                                                                                                                      & https://a0.muscache.com/pictures/665252/102d18d1\\_original.jpg   &  14942 & ⋯ & 4.66 & 4.91 & 4.56 & STR -OPLI-19-002622 & f &  3 & 3 &  0 & 0 & 0.56\\\\\n",
              "\t4 &  11012 & https://www.airbnb.com/rooms/11012  & 2.02506e+13 & 6/22/2025 & city scrape     & the orange house, quiet 'n central         &                                                                                                                                                                                                                                                                                                                                                                                                                                                                                                                       &                                                                                                                                                                                                                                                                                                                                                                                                                                                                                                                                                                                                                                                                                                                                                                                                                                                                                                                                                                                                                                          & https://a0.muscache.com/pictures/682034/54bc2752\\_original.jpg   &  14942 & ⋯ & 4.72 & 4.86 & 4.74 & str-opli-19-002622  & f &  3 & 3 &  0 & 0 & 0.52\\\\\n",
              "\t5 &  25002 & https://www.airbnb.com/rooms/25002  & 2.02506e+13 & 6/22/2025 & city scrape     & Beautiful Private  Spot in North Ballard   & -Great eating , Delancey, Fat Hen, 3 blocks away  more a little farther<br />-center of Ballard an easy 15 minute walk <br />-Ballard breweries a mile walk away<br />-great parks within easy walking distance <br />-free parking in driveway and plenty of free street parking <br />-Broadband fast WiFi<br />- Smart HD tv  YOUTUBE TV,  HBO <br />-fridge, microwave, toaster, kettle, dishes and snacks <br />-Queen bed and sofa bed <br /> full bath                                                         & Great walking neighborhood!  We are in between Ballard and Phinney Ridge, with  easy access to great North Seattle spots and quick access to Downtown Seattle as well.                                                                                                                                                                                                                                                                                                                                                                                                                                                                                                                                                                                                                                                                                                                                                                                                                                                                   & https://a0.muscache.com/pictures/491561/cf5270cc\\_original.jpg   & 102684 & ⋯ & 4.98 & 4.90 & 4.90 & STR-OPLI-19-002617  & t &  1 & 1 &  0 & 0 & 6.06\\\\\n",
              "\t6 & 119103 & https://www.airbnb.com/rooms/119103 & 2.02506e+13 & 6/22/2025 & city scrape     & Teeny Tiny Guestyhouse!                    & It's a Teeny Tiny Guesthouse!  Enter the words \"tiny guesthouse tour\" in your search engine or follow the instructions in the 2nd photo to see the video.  Trust me, it's totally worth it!  Also, click on the photo for more photos.  :)<br />The price is the price.  No hidden extra \"cleaning\" charges!  Those are for the hosts who want to scam you.  But that's not really my thing.  Trust me, have I ever lied to you?                                                                                      & Fremont is about a 10 minute bus ride from downtown.  Seattle lives in its neighborhoods and this is one of it's best ones.  From my place you can walk 2 blocks into the center of things where you can find enough to entertain you for days on end.  Want to go up to Ballard, over to Gasworks Park, or downtown?  Grab a bike and be anywhere in 10-15 minutes!                                                                                                                                                                                                                                                                                                                                                                                                                                                                                                                                                                                                                                                                     & https://a0.muscache.com/pictures/5941732/bd8f401a\\_original.jpg  & 601600 & ⋯ & 4.98 & 4.97 & 4.91 & STR-OPLI-19-000772  & f &  2 & 2 &  0 & 0 & 3.41\\\\\n",
              "\\end{tabular}\n"
            ],
            "text/markdown": [
              "\n",
              "A data.frame: 6 × 79\n",
              "\n",
              "| <!--/--> | id &lt;dbl&gt; | listing_url &lt;chr&gt; | scrape_id &lt;dbl&gt; | last_scraped &lt;chr&gt; | source &lt;chr&gt; | name &lt;chr&gt; | description &lt;chr&gt; | neighborhood_overview &lt;chr&gt; | picture_url &lt;chr&gt; | host_id &lt;int&gt; | ⋯ ⋯ | review_scores_communication &lt;dbl&gt; | review_scores_location &lt;dbl&gt; | review_scores_value &lt;dbl&gt; | license &lt;chr&gt; | instant_bookable &lt;chr&gt; | calculated_host_listings_count &lt;int&gt; | calculated_host_listings_count_entire_homes &lt;int&gt; | calculated_host_listings_count_private_rooms &lt;int&gt; | calculated_host_listings_count_shared_rooms &lt;int&gt; | reviews_per_month &lt;dbl&gt; |\n",
              "|---|---|---|---|---|---|---|---|---|---|---|---|---|---|---|---|---|---|---|---|---|---|\n",
              "| 1 |   6606 | https://www.airbnb.com/rooms/6606   | 2.02506e+13 | 6/22/2025 | city scrape     | Fab, private seattle urban cottage!        | This tiny cottage is only 15x10, but it has everything you need..including a garden just outside!  Newer queen bed, down pillows/ duvet, tv, closet w iron and mini board, large dresser, fold down table and chair. The kitchenette has micro, toaster oven, mini fridge, coffee, tea n snacks! ( hot plate too under sink)  The  combo shower, toilet,European style   is across from kitchen separated by a TALL shower curtain. &lt;br /&gt;Our walking score is 95, with 2 neighborhoods w/in a mile, buses on corner. | A peaceful yet highly accessible neighborhood, gardens galore.  The university district, Fremont, and wallingford are all walkable.( 5 Blocks from wallingford's business district.)                                                                                                                                                                                                                                                                                                                                                                                                                                                                                                                                                                                                                                                                                                                                                                                                                                                     | https://a0.muscache.com/pictures/45742/21116d7d_original.jpg    |  14942 | ⋯ | 4.77 | 4.88 | 4.57 | str-opli-19-002622  | f |  3 | 3 |  0 | 0 | 0.83 |\n",
              "| 2 |   9419 | https://www.airbnb.com/rooms/9419   | 2.02506e+13 | 6/22/2025 | city scrape     | Glorious sun room w/ memory foambed        | This beautiful double room features sun filled oasis (room darkening shades provided) with a sleeping room (Full size bed) wardrobe and a second room that features a day bed, work desk and  your own refrigerator. On a major bus line (124) . Room is located above a pool hall and two bars / restaurants (good food) We are in a creative arts district just minutes away from downtown Seattle.  Great place for a couple, parents (day bed is big enough for a full grown person too. We have A/C and heat     | Lots of restaurants (see our guide book) bars,coffee shops and antique /eclectic stores including the Georgetown Trailer Park mall filled with curiosities (open on weekends)We also have a huge parking lot and busses right across the street. This neighborhood is still a tiny bit gritty but also very safe and honestly more sparkly than a few years ago. Come see it for yourself&lt;br /&gt;Industrial Arts district meets thriving commercial meets victorian era esthetics&lt;br /&gt;&lt;br /&gt;A little grit,a lot of love and a burgeoning arts community. Easy 15 minute bus ride to Pike Place Market,the Big Wheel and Seattle Center and transportation to points beyond like Ballard locks,university district and Bellevue&lt;br /&gt;A little grit, and allot of love have resurrected  this neighborhood and arts community. Easy 15 minute bus ride to Pike Place Market, the Big Wheel, the waterfront parks and the  Seattle Center and transportation to points beyond like Ballard locks, University district and Bellevue&lt;br /&gt;#Cli | https://a0.muscache.com/pictures/56645186/e5fb34c9_original.jpg |  30559 | ⋯ | 4.89 | 4.68 | 4.67 | Exempt              | f | 10 | 0 | 10 | 0 | 1.17 |\n",
              "| 3 |   9596 | https://www.airbnb.com/rooms/9596   | 2.02506e+13 | 6/22/2025 | previous scrape | the down home , spacious, central and fab! | We are in a great neighborhood, quiet, full of gardens, and walkability score ,94!   Walk to downtown wallingford w/ its 20+ restaurants, movies, shops just 5 blocks away. we are 6 blk.s n. of gasworks park and the burke gilman trail,...Or you can walk .8 of a mile to Fremont,2 miles to downtown, 2 miles to the university district, ethnic restaurants, book stores and thrifting galore... like I said, central!                                                                                           | if you arrive early for check in at 3,  I recommend Archie Mcfee's for joke gifts for all occasions! ... and Tutti Bella is fab pizza both blocks away 44 n stone, 45th and stone.  There is always Gasworks park,( great views) and the essential bakery for lunch ,34th and woodlawn...a picnic?!                                                                                                                                                                                                                                                                                                                                                                                                                                                                                                                                                                                                                                                                                                                                      | https://a0.muscache.com/pictures/665252/102d18d1_original.jpg   |  14942 | ⋯ | 4.66 | 4.91 | 4.56 | STR -OPLI-19-002622 | f |  3 | 3 |  0 | 0 | 0.56 |\n",
              "| 4 |  11012 | https://www.airbnb.com/rooms/11012  | 2.02506e+13 | 6/22/2025 | city scrape     | the orange house, quiet 'n central         | <!----> | <!----> | https://a0.muscache.com/pictures/682034/54bc2752_original.jpg   |  14942 | ⋯ | 4.72 | 4.86 | 4.74 | str-opli-19-002622  | f |  3 | 3 |  0 | 0 | 0.52 |\n",
              "| 5 |  25002 | https://www.airbnb.com/rooms/25002  | 2.02506e+13 | 6/22/2025 | city scrape     | Beautiful Private  Spot in North Ballard   | -Great eating , Delancey, Fat Hen, 3 blocks away  more a little farther&lt;br /&gt;-center of Ballard an easy 15 minute walk &lt;br /&gt;-Ballard breweries a mile walk away&lt;br /&gt;-great parks within easy walking distance &lt;br /&gt;-free parking in driveway and plenty of free street parking &lt;br /&gt;-Broadband fast WiFi&lt;br /&gt;- Smart HD tv  YOUTUBE TV,  HBO &lt;br /&gt;-fridge, microwave, toaster, kettle, dishes and snacks &lt;br /&gt;-Queen bed and sofa bed &lt;br /&gt; full bath                                                         | Great walking neighborhood!  We are in between Ballard and Phinney Ridge, with  easy access to great North Seattle spots and quick access to Downtown Seattle as well.                                                                                                                                                                                                                                                                                                                                                                                                                                                                                                                                                                                                                                                                                                                                                                                                                                                                   | https://a0.muscache.com/pictures/491561/cf5270cc_original.jpg   | 102684 | ⋯ | 4.98 | 4.90 | 4.90 | STR-OPLI-19-002617  | t |  1 | 1 |  0 | 0 | 6.06 |\n",
              "| 6 | 119103 | https://www.airbnb.com/rooms/119103 | 2.02506e+13 | 6/22/2025 | city scrape     | Teeny Tiny Guestyhouse!                    | It's a Teeny Tiny Guesthouse!  Enter the words \"tiny guesthouse tour\" in your search engine or follow the instructions in the 2nd photo to see the video.  Trust me, it's totally worth it!  Also, click on the photo for more photos.  :)&lt;br /&gt;The price is the price.  No hidden extra \"cleaning\" charges!  Those are for the hosts who want to scam you.  But that's not really my thing.  Trust me, have I ever lied to you?                                                                                      | Fremont is about a 10 minute bus ride from downtown.  Seattle lives in its neighborhoods and this is one of it's best ones.  From my place you can walk 2 blocks into the center of things where you can find enough to entertain you for days on end.  Want to go up to Ballard, over to Gasworks Park, or downtown?  Grab a bike and be anywhere in 10-15 minutes!                                                                                                                                                                                                                                                                                                                                                                                                                                                                                                                                                                                                                                                                     | https://a0.muscache.com/pictures/5941732/bd8f401a_original.jpg  | 601600 | ⋯ | 4.98 | 4.97 | 4.91 | STR-OPLI-19-000772  | f |  2 | 2 |  0 | 0 | 3.41 |\n",
              "\n"
            ],
            "text/plain": [
              "  id     listing_url                         scrape_id   last_scraped\n",
              "1   6606 https://www.airbnb.com/rooms/6606   2.02506e+13 6/22/2025   \n",
              "2   9419 https://www.airbnb.com/rooms/9419   2.02506e+13 6/22/2025   \n",
              "3   9596 https://www.airbnb.com/rooms/9596   2.02506e+13 6/22/2025   \n",
              "4  11012 https://www.airbnb.com/rooms/11012  2.02506e+13 6/22/2025   \n",
              "5  25002 https://www.airbnb.com/rooms/25002  2.02506e+13 6/22/2025   \n",
              "6 119103 https://www.airbnb.com/rooms/119103 2.02506e+13 6/22/2025   \n",
              "  source          name                                      \n",
              "1 city scrape     Fab, private seattle urban cottage!       \n",
              "2 city scrape     Glorious sun room w/ memory foambed       \n",
              "3 previous scrape the down home , spacious, central and fab!\n",
              "4 city scrape     the orange house, quiet 'n central        \n",
              "5 city scrape     Beautiful Private  Spot in North Ballard  \n",
              "6 city scrape     Teeny Tiny Guestyhouse!                   \n",
              "  description                                                                                                                                                                                                                                                                                                                                                                                                                                                                                                          \n",
              "1 This tiny cottage is only 15x10, but it has everything you need..including a garden just outside!  Newer queen bed, down pillows/ duvet, tv, closet w iron and mini board, large dresser, fold down table and chair. The kitchenette has micro, toaster oven, mini fridge, coffee, tea n snacks! ( hot plate too under sink)  The  combo shower, toilet,European style   is across from kitchen separated by a TALL shower curtain. <br />Our walking score is 95, with 2 neighborhoods w/in a mile, buses on corner.\n",
              "2 This beautiful double room features sun filled oasis (room darkening shades provided) with a sleeping room (Full size bed) wardrobe and a second room that features a day bed, work desk and  your own refrigerator. On a major bus line (124) . Room is located above a pool hall and two bars / restaurants (good food) We are in a creative arts district just minutes away from downtown Seattle.  Great place for a couple, parents (day bed is big enough for a full grown person too. We have A/C and heat    \n",
              "3 We are in a great neighborhood, quiet, full of gardens, and walkability score ,94!   Walk to downtown wallingford w/ its 20+ restaurants, movies, shops just 5 blocks away. we are 6 blk.s n. of gasworks park and the burke gilman trail,...Or you can walk .8 of a mile to Fremont,2 miles to downtown, 2 miles to the university district, ethnic restaurants, book stores and thrifting galore... like I said, central!                                                                                          \n",
              "4                                                                                                                                                                                                                                                                                                                                                                                                                                                                                                                      \n",
              "5 -Great eating , Delancey, Fat Hen, 3 blocks away  more a little farther<br />-center of Ballard an easy 15 minute walk <br />-Ballard breweries a mile walk away<br />-great parks within easy walking distance <br />-free parking in driveway and plenty of free street parking <br />-Broadband fast WiFi<br />- Smart HD tv  YOUTUBE TV,  HBO <br />-fridge, microwave, toaster, kettle, dishes and snacks <br />-Queen bed and sofa bed <br /> full bath                                                        \n",
              "6 It's a Teeny Tiny Guesthouse!  Enter the words \"tiny guesthouse tour\" in your search engine or follow the instructions in the 2nd photo to see the video.  Trust me, it's totally worth it!  Also, click on the photo for more photos.  :)<br />The price is the price.  No hidden extra \"cleaning\" charges!  Those are for the hosts who want to scam you.  But that's not really my thing.  Trust me, have I ever lied to you?                                                                                     \n",
              "  neighborhood_overview                                                                                                                                                                                                                                                                                                                                                                                                                                                                                                                                                                                                                                                                                                                                                                                                                                                                                                                                                                                                                   \n",
              "1 A peaceful yet highly accessible neighborhood, gardens galore.  The university district, Fremont, and wallingford are all walkable.( 5 Blocks from wallingford's business district.)                                                                                                                                                                                                                                                                                                                                                                                                                                                                                                                                                                                                                                                                                                                                                                                                                                                    \n",
              "2 Lots of restaurants (see our guide book) bars,coffee shops and antique /eclectic stores including the Georgetown Trailer Park mall filled with curiosities (open on weekends)We also have a huge parking lot and busses right across the street. This neighborhood is still a tiny bit gritty but also very safe and honestly more sparkly than a few years ago. Come see it for yourself<br />Industrial Arts district meets thriving commercial meets victorian era esthetics<br /><br />A little grit,a lot of love and a burgeoning arts community. Easy 15 minute bus ride to Pike Place Market,the Big Wheel and Seattle Center and transportation to points beyond like Ballard locks,university district and Bellevue<br />A little grit, and allot of love have resurrected  this neighborhood and arts community. Easy 15 minute bus ride to Pike Place Market, the Big Wheel, the waterfront parks and the  Seattle Center and transportation to points beyond like Ballard locks, University district and Bellevue<br />#Cli\n",
              "3 if you arrive early for check in at 3,  I recommend Archie Mcfee's for joke gifts for all occasions! ... and Tutti Bella is fab pizza both blocks away 44 n stone, 45th and stone.  There is always Gasworks park,( great views) and the essential bakery for lunch ,34th and woodlawn...a picnic?!                                                                                                                                                                                                                                                                                                                                                                                                                                                                                                                                                                                                                                                                                                                                     \n",
              "4                                                                                                                                                                                                                                                                                                                                                                                                                                                                                                                                                                                                                                                                                                                                                                                                                                                                                                                                                                                                                                         \n",
              "5 Great walking neighborhood!  We are in between Ballard and Phinney Ridge, with  easy access to great North Seattle spots and quick access to Downtown Seattle as well.                                                                                                                                                                                                                                                                                                                                                                                                                                                                                                                                                                                                                                                                                                                                                                                                                                                                  \n",
              "6 Fremont is about a 10 minute bus ride from downtown.  Seattle lives in its neighborhoods and this is one of it's best ones.  From my place you can walk 2 blocks into the center of things where you can find enough to entertain you for days on end.  Want to go up to Ballard, over to Gasworks Park, or downtown?  Grab a bike and be anywhere in 10-15 minutes!                                                                                                                                                                                                                                                                                                                                                                                                                                                                                                                                                                                                                                                                    \n",
              "  picture_url                                                     host_id ⋯\n",
              "1 https://a0.muscache.com/pictures/45742/21116d7d_original.jpg     14942  ⋯\n",
              "2 https://a0.muscache.com/pictures/56645186/e5fb34c9_original.jpg  30559  ⋯\n",
              "3 https://a0.muscache.com/pictures/665252/102d18d1_original.jpg    14942  ⋯\n",
              "4 https://a0.muscache.com/pictures/682034/54bc2752_original.jpg    14942  ⋯\n",
              "5 https://a0.muscache.com/pictures/491561/cf5270cc_original.jpg   102684  ⋯\n",
              "6 https://a0.muscache.com/pictures/5941732/bd8f401a_original.jpg  601600  ⋯\n",
              "  review_scores_communication review_scores_location review_scores_value\n",
              "1 4.77                        4.88                   4.57               \n",
              "2 4.89                        4.68                   4.67               \n",
              "3 4.66                        4.91                   4.56               \n",
              "4 4.72                        4.86                   4.74               \n",
              "5 4.98                        4.90                   4.90               \n",
              "6 4.98                        4.97                   4.91               \n",
              "  license             instant_bookable calculated_host_listings_count\n",
              "1 str-opli-19-002622  f                 3                            \n",
              "2 Exempt              f                10                            \n",
              "3 STR -OPLI-19-002622 f                 3                            \n",
              "4 str-opli-19-002622  f                 3                            \n",
              "5 STR-OPLI-19-002617  t                 1                            \n",
              "6 STR-OPLI-19-000772  f                 2                            \n",
              "  calculated_host_listings_count_entire_homes\n",
              "1 3                                          \n",
              "2 0                                          \n",
              "3 3                                          \n",
              "4 3                                          \n",
              "5 1                                          \n",
              "6 2                                          \n",
              "  calculated_host_listings_count_private_rooms\n",
              "1  0                                          \n",
              "2 10                                          \n",
              "3  0                                          \n",
              "4  0                                          \n",
              "5  0                                          \n",
              "6  0                                          \n",
              "  calculated_host_listings_count_shared_rooms reviews_per_month\n",
              "1 0                                           0.83             \n",
              "2 0                                           1.17             \n",
              "3 0                                           0.56             \n",
              "4 0                                           0.52             \n",
              "5 0                                           6.06             \n",
              "6 0                                           3.41             "
            ]
          },
          "metadata": {},
          "output_type": "display_data"
        }
      ],
      "source": [
        "# 2) DATA COLLECTION\n",
        "\n",
        "# Read the Airbnb dataset for Seattle location\n",
        "listings <- read.csv(\"listings.csv\", stringsAsFactors = FALSE)\n",
        "\n",
        "# View basic structure and first few rows\n",
        "str(listings)\n",
        "head(listings)\n"
      ]
    },
    {
      "cell_type": "code",
      "execution_count": null,
      "metadata": {
        "id": "hXQffSV1WCK_"
      },
      "outputs": [],
      "source": [
        "# 3) SELECT RELEVANT COLUMNS\n",
        "\n",
        "# Keep only useful features for price prediction\n",
        "listings <- listings[, c(\"id\", \"price\", \"neighbourhood\", \"property_type\",\n",
        "                         \"room_type\", \"bedrooms\", \"bathrooms\", \"amenities\",\n",
        "                         \"host_since\", \"host_is_superhost\", \"number_of_reviews\",\n",
        "                         \"review_scores_rating\", \"availability_30\")]"
      ]
    },
    {
      "cell_type": "code",
      "execution_count": null,
      "metadata": {
        "id": "vVZfB0yhWGeK"
      },
      "outputs": [],
      "source": [
        "# 4) DATA CLEANING\n",
        "\n",
        "# 4.1 Remove duplicate listings\n",
        "listings <- listings[!duplicated(listings$id), ]"
      ]
    },
    {
      "cell_type": "code",
      "execution_count": null,
      "metadata": {
        "id": "w2crKz7EWK75"
      },
      "outputs": [],
      "source": [
        "# 4.2 Remove rows with missing price values\n",
        "listings <- listings[!is.na(listings$price), ]"
      ]
    },
    {
      "cell_type": "code",
      "execution_count": null,
      "metadata": {
        "id": "rGD89b90WNqR"
      },
      "outputs": [],
      "source": [
        "# 4.3 Convert 'price' column from string to numeric\n",
        "listings$price <- as.numeric(gsub(\"[\\\\$,]\", \"\", listings$price))"
      ]
    },
    {
      "cell_type": "code",
      "execution_count": null,
      "metadata": {
        "id": "vF0T-j7mWRPr"
      },
      "outputs": [],
      "source": [
        "# 4.4 Remove unrealistic outliers (keep prices between $10 and $1000 per night)\n",
        "listings <- listings[listings$price > 10 & listings$price < 1000, ]"
      ]
    },
    {
      "cell_type": "code",
      "execution_count": null,
      "metadata": {
        "id": "5ivf0y1dWU3V"
      },
      "outputs": [],
      "source": [
        "# 4.5 Handle missing numeric values by replacing with median\n",
        "listings$number_of_reviews[is.na(listings$number_of_reviews)] <-\n",
        "    median(listings$number_of_reviews, na.rm = TRUE)\n",
        "\n",
        "listings$review_scores_rating[is.na(listings$review_scores_rating)] <-\n",
        "    median(listings$review_scores_rating, na.rm = TRUE)"
      ]
    },
    {
      "cell_type": "code",
      "execution_count": null,
      "metadata": {
        "id": "Mdbz8g9eWdA2"
      },
      "outputs": [],
      "source": [
        "# 4.6 Handle missing categorical values by replacing with 'Unknown'\n",
        "listings$host_is_superhost[is.na(listings$host_is_superhost)] <- \"Unknown\""
      ]
    },
    {
      "cell_type": "code",
      "execution_count": null,
      "metadata": {
        "id": "iidXlOr5WfRP"
      },
      "outputs": [],
      "source": [
        "# 5) FEATURE ENGINEERING\n",
        "\n",
        "# 5.1 Total number of amenities\n",
        "listings$amenities_count <- sapply(strsplit(listings$amenities, \",\"), length)\n"
      ]
    },
    {
      "cell_type": "code",
      "execution_count": null,
      "metadata": {
        "id": "4ziMbpedWkNd"
      },
      "outputs": [],
      "source": [
        "# 5.2 Host experience in years\n",
        "# Assuming the date format is month/day/year, e.g., \"4/26/2009\"\n",
        "listings$host_since <- as.Date(listings$host_since, format = \"%m/%d/%Y\")\n",
        "listings$host_experience_years <- as.numeric(difftime(Sys.Date(),\n",
        "                                                     listings$host_since,\n",
        "                                                     units = \"days\")) / 365\n",
        "# Replace NA values with 0\n",
        "listings$host_experience_years[is.na(listings$host_experience_years)] <- 0"
      ]
    },
    {
      "cell_type": "code",
      "execution_count": null,
      "metadata": {
        "id": "dJizFZ2EWnG9"
      },
      "outputs": [],
      "source": [
        "# 5.3 Price per bedroom (avoid division by zero)\n",
        "listings$price_per_bedroom <- listings$price / pmax(listings$bedrooms, 1)"
      ]
    },
    {
      "cell_type": "code",
      "execution_count": null,
      "metadata": {
        "id": "yQ39111GXB-B"
      },
      "outputs": [],
      "source": [
        "# 6) ENCODING CATEGORICAL VARIABLES\n",
        "\n",
        "## Convert to factors\n",
        "listings$property_type <- as.factor(listings$property_type)\n",
        "listings$neighbourhood <- as.factor(listings$neighbourhood)\n",
        "listings$room_type <- as.factor(listings$room_type)\n",
        "listings$host_is_superhost <- as.factor(listings$host_is_superhost)\n",
        "\n",
        "## One-hot encoding (dummy variables)\n",
        "dummy_vars <- dummyVars(\" ~ .\", data = listings, fullRank = TRUE)\n",
        "listings_encoded <- data.frame(predict(dummy_vars, newdata = listings))\n"
      ]
    },
    {
      "cell_type": "code",
      "execution_count": null,
      "metadata": {
        "id": "kJnhJhpkXDkg"
      },
      "outputs": [],
      "source": [
        "# 7) NORMALIZATION / SCALING\n",
        "\n",
        "# Scale numeric features (optional - useful for some models like linear regression)\n",
        "num_cols <- sapply(listings_encoded, is.numeric)\n",
        "listings_encoded[num_cols] <- scale(listings_encoded[num_cols])"
      ]
    },
    {
      "cell_type": "code",
      "execution_count": null,
      "metadata": {
        "colab": {
          "base_uri": "https://localhost:8080/",
          "height": 52
        },
        "id": "W2OcZmyjXHAg",
        "outputId": "93f92b73-fea1-4ed9-dd89-7a1f240660c8"
      },
      "outputs": [
        {
          "data": {
            "text/html": [
              "<style>\n",
              ".list-inline {list-style: none; margin:0; padding: 0}\n",
              ".list-inline>li {display: inline-block}\n",
              ".list-inline>li:not(:last-child)::after {content: \"\\00b7\"; padding: 0 .5ex}\n",
              "</style>\n",
              "<ol class=list-inline><li>4707</li><li>5696</li></ol>\n"
            ],
            "text/latex": [
              "\\begin{enumerate*}\n",
              "\\item 4707\n",
              "\\item 5696\n",
              "\\end{enumerate*}\n"
            ],
            "text/markdown": [
              "1. 4707\n",
              "2. 5696\n",
              "\n",
              "\n"
            ],
            "text/plain": [
              "[1] 4707 5696"
            ]
          },
          "metadata": {},
          "output_type": "display_data"
        },
        {
          "data": {
            "text/html": [
              "<style>\n",
              ".list-inline {list-style: none; margin:0; padding: 0}\n",
              ".list-inline>li {display: inline-block}\n",
              ".list-inline>li:not(:last-child)::after {content: \"\\00b7\"; padding: 0 .5ex}\n",
              "</style>\n",
              "<ol class=list-inline><li>1173</li><li>5696</li></ol>\n"
            ],
            "text/latex": [
              "\\begin{enumerate*}\n",
              "\\item 1173\n",
              "\\item 5696\n",
              "\\end{enumerate*}\n"
            ],
            "text/markdown": [
              "1. 1173\n",
              "2. 5696\n",
              "\n",
              "\n"
            ],
            "text/plain": [
              "[1] 1173 5696"
            ]
          },
          "metadata": {},
          "output_type": "display_data"
        }
      ],
      "source": [
        "# 8) TRAIN-TEST SPLIT\n",
        "\n",
        "set.seed(123) # for reproducibility\n",
        "train_index <- createDataPartition(listings_encoded$price, p = 0.8, list = FALSE)\n",
        "train_data <- listings_encoded[train_index, ]\n",
        "test_data <- listings_encoded[-train_index, ]\n",
        "\n",
        "# Final check\n",
        "dim(train_data)\n",
        "dim(test_data)"
      ]
    },
    {
      "cell_type": "code",
      "execution_count": null,
      "metadata": {},
      "outputs": [],
      "source": [
        "  # -------------------------------\n",
        "  # 2) EXPLORATORY DATA ANALYSIS (EDA) & FEATURE SELECTION\n",
        "  # -------------------------------\n",
        "\n",
        "  # 2.1 Price distribution\n",
        "  png(\"price_distribution.png\", width = 800, height = 600)\n",
        "  ggplot(listings, aes(x = price)) +\n",
        "    geom_histogram(bins = 50, fill = \"skyblue\", color = \"black\") +\n",
        "    theme_minimal() +\n",
        "    ggtitle(\"Price Distribution\") +\n",
        "    xlab(\"Price ($)\") + ylab(\"Count\")\n",
        "  dev.off()"
      ]
    },
    {
      "cell_type": "code",
      "execution_count": null,
      "metadata": {},
      "outputs": [],
      "source": [
        "# 2.2 Price vs Room Type\n",
        "png(\"price_vs_room_type.png\", width = 800, height = 600)\n",
        "ggplot(listings, aes(x = room_type, y = price)) +\n",
        "  geom_boxplot(fill = \"lightgreen\") +\n",
        "  theme_minimal() +\n",
        "  ggtitle(\"Price vs Room Type\") +\n",
        "  ylab(\"Price ($)\")\n",
        "dev.off()"
      ]
    },
    {
      "cell_type": "code",
      "execution_count": null,
      "metadata": {},
      "outputs": [],
      "source": [
        "# 2.3 Price vs Neighbourhood\n",
        "png(\"price_vs_neighbourhood.png\", width = 1000, height = 600)\n",
        "ggplot(listings, aes(x = neighbourhood, y = price)) +\n",
        "  geom_boxplot(fill = \"lightpink\") +\n",
        "  theme_minimal() +\n",
        "  ggtitle(\"Price vs Neighbourhood\") +\n",
        "  ylab(\"Price ($)\") +\n",
        "  theme(axis.text.x = element_text(angle = 90, hjust = 1))\n",
        "dev.off()\n"
      ]
    },
    {
      "cell_type": "code",
      "execution_count": null,
      "metadata": {},
      "outputs": [],
      "source": [
        "# 2.4 Correlation Heatmap (numeric features)\n",
        "num_features <- listings[, sapply(listings, is.numeric)]\n",
        "cor_matrix <- cor(num_features, use = \"complete.obs\")\n",
        "\n",
        "png(\"correlation_heatmap.png\", width = 1000, height = 800)\n",
        "corrplot(cor_matrix, method = \"color\", type = \"upper\", \n",
        "         tl.cex = 0.8, tl.col = \"black\", addCoef.col = \"black\")\n",
        "dev.off()\n",
        "\n",
        "# 2.5 Feature importance using Random Forest\n",
        "set.seed(123)\n",
        "rf_model <- randomForest(price ~ ., data = listings_encoded, ntree = 100, importance = TRUE)\n",
        "\n",
        "# Save RF feature importance plot\n",
        "png(\"rf_feature_importance.png\", width = 1000, height = 600)\n",
        "varImpPlot(rf_model)\n",
        "dev.off()"
      ]
    },
    {
      "cell_type": "code",
      "execution_count": null,
      "metadata": {},
      "outputs": [],
      "source": [
        "# -------------------------------\n",
        "# 3) MODEL BUILDING & TRAINING\n",
        "# -------------------------------\n",
        "\n",
        "# 3.1 Train-test split already done\n",
        "# train_data, test_data from previous steps\n",
        "\n",
        "# 3.2 Linear Regression\n",
        "lm_model <- lm(price ~ ., data = train_data)\n",
        "summary(lm_model)\n",
        "\n",
        "# Predictions\n",
        "lm_pred <- predict(lm_model, newdata = test_data)\n",
        "\n",
        "# RMSE\n",
        "lm_rmse <- sqrt(mean((test_data$price - lm_pred)^2))\n",
        "print(paste(\"Linear Regression RMSE:\", round(lm_rmse, 2)))"
      ]
    },
    {
      "cell_type": "code",
      "execution_count": null,
      "metadata": {},
      "outputs": [],
      "source": [
        "# 3.3 Random Forest Regression\n",
        "rf_model2 <- randomForest(price ~ ., data = train_data, ntree = 200, mtry = 5)\n",
        "rf_pred <- predict(rf_model2, newdata = test_data)\n",
        "rf_rmse <- sqrt(mean((test_data$price - rf_pred)^2))\n",
        "print(paste(\"Random Forest RMSE:\", round(rf_rmse, 2)))\n",
        "\n",
        "# Hyperparameter tuning (Random Forest)\n",
        "rf_grid <- expand.grid(mtry = c(3, 5, 7))\n",
        "train_control <- trainControl(method = \"cv\", number = 5)\n",
        "rf_tuned <- train(price ~ ., data = train_data, method = \"rf\",\n",
        "                  tuneGrid = rf_grid, trControl = train_control, ntree = 200)\n",
        "print(rf_tuned)"
      ]
    },
    {
      "cell_type": "code",
      "execution_count": null,
      "metadata": {},
      "outputs": [],
      "source": [
        "# 3.4 XGBoost Regression\n",
        "# Prepare matrix for XGBoost\n",
        "train_matrix <- xgb.DMatrix(data = as.matrix(train_data[, -which(names(train_data) == \"price\")]),\n",
        "                            label = train_data$price)\n",
        "test_matrix <- xgb.DMatrix(data = as.matrix(test_data[, -which(names(test_data) == \"price\")]),\n",
        "                           label = test_data$price)\n",
        "\n",
        "# Train XGBoost model\n",
        "xgb_model <- xgboost(data = train_matrix, max.depth = 6, eta = 0.1, nrounds = 100,\n",
        "                     objective = \"reg:squarederror\", verbose = 0)"
      ]
    },
    {
      "cell_type": "code",
      "execution_count": null,
      "metadata": {},
      "outputs": [],
      "source": [
        "# Predictions\n",
        "xgb_pred <- predict(xgb_model, test_matrix)\n",
        "xgb_rmse <- sqrt(mean((test_data$price - xgb_pred)^2))\n",
        "print(paste(\"XGBoost RMSE:\", round(xgb_rmse, 2)))\n",
        "\n",
        "# Feature importance for XGBoost\n",
        "importance_matrix <- xgb.importance(feature_names = colnames(train_data[, -which(names(train_data) == \"price\")]),\n",
        "                                    model = xgb_model)\n",
        "\n",
        "# Save XGBoost importance plot\n",
        "png(\"xgb_feature_importance.png\", width = 1000, height = 600)\n",
        "xgb.plot.importance(importance_matrix)\n",
        "dev.off()"
      ]
    },
    {
      "cell_type": "code",
      "execution_count": null,
      "metadata": {},
      "outputs": [],
      "source": [
        "# -------------------------------\n",
        "# 4) MODEL EVALUATION & INTERPRETATION\n",
        "# -------------------------------\n",
        "\n",
        "library(Metrics)   # for MAE\n",
        "library(caret)     # for R2\n",
        "library(SHAPforxgboost)\n",
        "\n",
        "# ---- 4.1 Evaluation Metrics ----\n",
        "# MAE\n",
        "lm_mae <- mae(test_data$price, lm_pred)\n",
        "rf_mae <- mae(test_data$price, rf_pred)\n",
        "xgb_mae <- mae(test_data$price, xgb_pred)\n",
        "\n",
        "# R-squared\n",
        "lm_r2 <- R2(lm_pred, test_data$price)\n",
        "rf_r2 <- R2(rf_pred, test_data$price)\n",
        "xgb_r2 <- R2(xgb_pred, test_data$price)\n",
        "\n",
        "# Print results\n",
        "cat(\"\\n--- Model Performance ---\\n\")\n",
        "cat(sprintf(\"Linear Regression -> RMSE: %.2f | MAE: %.2f | R²: %.3f\\n\", lm_rmse, lm_mae, lm_r2))\n",
        "cat(sprintf(\"Random Forest     -> RMSE: %.2f | MAE: %.2f | R²: %.3f\\n\", rf_rmse, rf_mae, rf_r2))\n",
        "cat(sprintf(\"XGBoost          -> RMSE: %.2f | MAE: %.2f | R²: %.3f\\n\", xgb_rmse, xgb_mae, xgb_r2))\n",
        "\n",
        "# ---- 4.2 ±10-15% Accuracy Check ----\n",
        "within_10 <- mean(abs((xgb_pred - test_data$price) / test_data$price) <= 0.10) * 100\n",
        "within_15 <- mean(abs((xgb_pred - test_data$price) / test_data$price) <= 0.15) * 100\n",
        "\n",
        "cat(sprintf(\"\\nXGBoost: %.1f%% of predictions are within ±10%% of actual price\", within_10))\n",
        "cat(sprintf(\"\\nXGBoost: %.1f%% of predictions are within ±15%% of actual price\\n\", within_15))\n",
        "\n",
        "# ---- 4.3 SHAP Values for Interpretability ----\n",
        "shap_values <- shap.values(xgb_model, X_train = as.matrix(train_data[, -which(names(train_data) == \"price\")]))\n",
        "shap_long <- shap.prep(shap_contrib = shap_values$shap_score,\n",
        "                       X_train = as.matrix(train_data[, -which(names(train_data) == \"price\")]))\n",
        "\n",
        "# Top features SHAP summary plot\n",
        "png(\"xgb_shap_summary.png\", width = 1000, height = 600)\n",
        "shap.plot.summary(shap_long)\n",
        "dev.off()\n",
        "\n",
        "cat(\"\\nSHAP summary plot saved as xgb_shap_summary.png (top features influencing price).\")\n"
      ]
    }
  ],
  "metadata": {
    "colab": {
      "provenance": []
    },
    "kernelspec": {
      "display_name": "Python 3",
      "language": "python",
      "name": "python3"
    },
    "language_info": {
      "codemirror_mode": {
        "name": "ipython",
        "version": 3
      },
      "file_extension": ".py",
      "mimetype": "text/x-python",
      "name": "python",
      "nbconvert_exporter": "python",
      "pygments_lexer": "ipython3",
      "version": "3.9.1"
    }
  },
  "nbformat": 4,
  "nbformat_minor": 0
}
