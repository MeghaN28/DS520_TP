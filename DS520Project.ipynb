{
  "cells": [
    {
      "cell_type": "code",
      "execution_count": null,
      "metadata": {
        "colab": {
          "base_uri": "https://localhost:8080/"
        },
        "id": "pUASjmdiTWJF",
        "outputId": "f5931ecb-f866-4bd8-a57d-53b2db0c6308"
      },
      "outputs": [],
      "source": [
        "# === Required packages ===\n",
        "install.packages(\"caret\")\n",
        "install.packages(\"ggplot2\")\n",
        "install.packages(\"corrplot\")\n",
        "install.packages(\"randomForest\")\n",
        "install.packages(\"xgboost\")\n",
        "install.packages(\"doParallel\")     # parallel processing\n",
        "install.packages(\"Metrics\")       # mae\n",
        "install.packages(\"SHAPforxgboost\")\n",
        "\n",
        "library(caret)\n",
        "library(ggplot2)\n",
        "library(corrplot)\n",
        "library(randomForest)\n",
        "library(xgboost)\n",
        "library(doParallel)\n",
        "library(Metrics)\n",
        "library(SHAPforxgboost)\n",
        "library(parallel)  # for detectCores()"
      ]
    },
    {
      "cell_type": "code",
      "execution_count": null,
      "metadata": {
        "colab": {
          "base_uri": "https://localhost:8080/",
          "height": 1000
        },
        "id": "oInzUg2JVOwr",
        "outputId": "3a7aa047-6a3d-457e-b2ce-3f9278bb71a8"
      },
      "outputs": [],
      "source": [
        "# === 1) DATA COLLECTION & INITIAL CLEANING ===\n",
        "listings <- read.csv(\"listings.csv\", stringsAsFactors = FALSE)\n",
        "\n",
        "# Keep only useful features for price prediction (drop raw amenities text to avoid huge dummies)\n",
        "listings <- listings[, c(\"id\", \"price\", \"neighbourhood\", \"property_type\",\n",
        "                         \"room_type\", \"bedrooms\", \"bathrooms\",\n",
        "                         \"host_since\", \"host_is_superhost\", \"number_of_reviews\",\n",
        "                         \"review_scores_rating\", \"availability_30\", \"amenities\")]\n",
        "\n",
        "# Basic cleaning\n",
        "listings <- listings[!duplicated(listings$id), ]\n",
        "listings <- listings[!is.na(listings$price), ]\n",
        "listings$price <- as.numeric(gsub(\"[\\\\$,]\", \"\", listings$price))\n",
        "listings <- listings[listings$price > 10 & listings$price < 1000, ]"
      ]
    },
    {
      "cell_type": "code",
      "execution_count": null,
      "metadata": {
        "id": "hXQffSV1WCK_"
      },
      "outputs": [],
      "source": [
        "\n",
        "# Handle missing numeric values\n",
        "listings$number_of_reviews[is.na(listings$number_of_reviews)] <-\n",
        "  median(listings$number_of_reviews, na.rm = TRUE)\n",
        "listings$review_scores_rating[is.na(listings$review_scores_rating)] <-\n",
        "  median(listings$review_scores_rating, na.rm = TRUE)\n",
        "\n",
        "# Handle missing categorical\n",
        "listings$host_is_superhost[is.na(listings$host_is_superhost)] <- \"Unknown\""
      ]
    },
    {
      "cell_type": "code",
      "execution_count": null,
      "metadata": {
        "id": "vVZfB0yhWGeK"
      },
      "outputs": [],
      "source": [
        "# === 2) FEATURE ENGINEERING ===\n",
        "# amenities_count (safe: count commas + 1 when non-empty)\n",
        "listings$amenities_count <- sapply(strsplit(as.character(listings$amenities), \",\"), function(x) {\n",
        "  if (length(x)==1 && (is.na(x) || x == \"\")) return(0) else return(length(x))\n",
        "})\n",
        "\n",
        "# host_experience_years\n",
        "listings$host_since <- as.Date(listings$host_since, format = \"%m/%d/%Y\")\n",
        "listings$host_experience_years <- as.numeric(difftime(Sys.Date(),\n",
        "                                                     listings$host_since,\n",
        "                                                     units = \"days\")) / 365\n",
        "listings$host_experience_years[is.na(listings$host_experience_years)] <- 0\n"
      ]
    },
    {
      "cell_type": "code",
      "execution_count": null,
      "metadata": {
        "id": "5ivf0y1dWU3V"
      },
      "outputs": [],
      "source": [
        "# price_per_bedroom\n",
        "listings$bedrooms[is.na(listings$bedrooms)] <- 0\n",
        "listings$price_per_bedroom <- listings$price / pmax(listings$bedrooms, 1)\n",
        "\n",
        "# Drop raw amenities text and id (not useful for modeling)\n",
        "listings$amenities <- NULL\n",
        "listings$id <- NULL\n",
        "\n",
        "# Convert some columns to factor\n",
        "listings$property_type <- as.factor(listings$property_type)\n",
        "listings$neighbourhood <- as.factor(listings$neighbourhood)\n",
        "listings$room_type <- as.factor(listings$room_type)\n",
        "listings$host_is_superhost <- as.factor(listings$host_is_superhost)"
      ]
    },
    {
      "cell_type": "code",
      "execution_count": null,
      "metadata": {},
      "outputs": [],
      "source": [
        "listings <- na.omit(listings)\n",
        "\n",
        "# === 3) TRAIN-TEST SPLIT (on the raw listings dataframe) ===\n",
        "set.seed(123)\n",
        "train_idx <- createDataPartition(listings$price, p = 0.8, list = FALSE)\n",
        "train_raw <- listings[train_idx, ]\n",
        "test_raw  <- listings[-train_idx, ]\n",
        "\n",
        "# === 4) ENCODING: create dummyVars based on TRAIN only, then apply to TEST ===\n",
        "# Use formula excluding price so dummyVars doesn't try to encode the target\n",
        "dummy_formula <- as.formula(\"~ . - price\")\n",
        "dummy_vars <- dummyVars(dummy_formula, data = train_raw, fullRank = TRUE)\n",
        "\n",
        "train_encoded <- data.frame(predict(dummy_vars, newdata = train_raw))\n",
        "test_encoded  <- data.frame(predict(dummy_vars, newdata = test_raw))\n",
        "\n",
        "# Add back the price column (unchanged raw numeric target)\n",
        "train_encoded$price <- train_raw$price\n",
        "test_encoded$price  <- test_raw$price"
      ]
    },
    {
      "cell_type": "code",
      "execution_count": null,
      "metadata": {},
      "outputs": [],
      "source": [
        "# Ensure column order identical\n",
        "train_encoded <- train_encoded[, c(setdiff(names(train_encoded), \"price\"), \"price\")]\n",
        "test_encoded  <- test_encoded[, c(setdiff(names(test_encoded), \"price\"), \"price\")]\n",
        "\n",
        "# === 5) SCALING: scale numeric predictors ONLY (exclude price) ===\n",
        "predictor_names <- setdiff(names(train_encoded), \"price\")\n",
        "# Find numeric predictors in train\n",
        "numeric_preds <- predictor_names[sapply(train_encoded[predictor_names], is.numeric)]\n",
        "\n",
        "# Compute scaling from train and apply same scale to test\n",
        "preproc_vals <- preProcess(train_encoded[, numeric_preds], method = c(\"center\", \"scale\"))\n",
        "train_encoded[, numeric_preds] <- predict(preproc_vals, train_encoded[, numeric_preds])\n",
        "test_encoded[, numeric_preds]  <- predict(preproc_vals, test_encoded[, numeric_preds])"
      ]
    },
    {
      "cell_type": "code",
      "execution_count": null,
      "metadata": {},
      "outputs": [],
      "source": [
        "# Final datasets\n",
        "train_data <- train_encoded\n",
        "test_data  <- test_encoded\n",
        "\n",
        "# Quick sanity checks\n",
        "cat(\"Train dim:\", dim(train_data), \"\\n\")\n",
        "cat(\"Test dim :\", dim(test_data), \"\\n\")\n",
        "cat(\"Any NA in train? \", any(is.na(train_data)), \"\\n\")\n",
        "cat(\"Any NA in test?  \", any(is.na(test_data)), \"\\n\")"
      ]
    },
    {
      "cell_type": "code",
      "execution_count": null,
      "metadata": {},
      "outputs": [],
      "source": [
        "# === 6) EDA (plots) ===\n",
        "png(\"price_distribution.png\", width = 800, height = 600)\n",
        "ggplot(train_raw, aes(x = price)) +\n",
        "  geom_histogram(bins = 50) + theme_minimal() + ggtitle(\"Price Distribution (train)\")\n",
        "dev.off()\n",
        "\n",
        "png(\"price_vs_room_type.png\", width = 800, height = 600)\n",
        "ggplot(train_raw, aes(x = room_type, y = price)) + geom_boxplot() + theme_minimal() + ggtitle(\"Price vs Room Type\")\n",
        "dev.off()\n",
        "\n",
        "png(\"price_vs_neighbourhood.png\", width = 1000, height = 600)\n",
        "ggplot(train_raw, aes(x = neighbourhood, y = price)) + geom_boxplot() + theme_minimal() +\n",
        "  theme(axis.text.x = element_text(angle = 90, hjust = 1)) + ggtitle(\"Price vs Neighbourhood\")\n",
        "dev.off()\n",
        "\n",
        "# Correlation heatmap on numeric columns of the raw data (before encoding)\n",
        "num_features <- train_raw[, sapply(train_raw, is.numeric)]\n",
        "cor_matrix <- cor(num_features, use = \"complete.obs\")\n",
        "png(\"correlation_heatmap.png\", width = 1000, height = 800)\n",
        "corrplot(cor_matrix, method = \"color\", type = \"upper\", tl.cex = 0.8, tl.col = \"black\", addCoef.col = \"black\")\n",
        "dev.off()"
      ]
    },
    {
      "cell_type": "code",
      "execution_count": null,
      "metadata": {},
      "outputs": [],
      "source": [
        "# === 7) MODELING & EVALUATION ===\n",
        "\n",
        "# ---- 7.1 Linear Regression ----\n",
        "lm_model <- lm(price ~ ., data = train_data)\n",
        "summary(lm_model)\n",
        "\n",
        "lm_pred <- predict(lm_model, newdata = test_data)\n",
        "# If some predictions are NA (shouldn't be now), handle:\n",
        "if (any(is.na(lm_pred))) {\n",
        "  warning(\"Some lm predictions are NA. Check test_data columns and NA values.\")\n",
        "}\n",
        "\n",
        "lm_rmse <- sqrt(mean((test_data$price - lm_pred)^2))\n",
        "lm_mae  <- mae(test_data$price, lm_pred)\n",
        "lm_r2   <- R2(lm_pred, test_data$price)\n"
      ]
    },
    {
      "cell_type": "code",
      "execution_count": null,
      "metadata": {},
      "outputs": [],
      "source": [
        "# ---- 7.2 Random Forest (single-step training on train_data) ----\n",
        "set.seed(123)\n",
        "# Use parallel if available\n",
        "num_cores <- max(1, detectCores() - 1)\n",
        "cl <- makeCluster(num_cores)\n",
        "registerDoParallel(cl)\n",
        "\n",
        "rf_model <- randomForest(price ~ ., data = train_data, ntree = 100, importance = TRUE)\n",
        "stopCluster(cl)\n",
        "registerDoSEQ()\n",
        "\n",
        "rf_pred <- predict(rf_model, newdata = test_data)\n",
        "rf_rmse <- sqrt(mean((test_data$price - rf_pred)^2))\n",
        "rf_mae  <- mae(test_data$price, rf_pred)\n",
        "rf_r2   <- R2(rf_pred, test_data$price)"
      ]
    },
    {
      "cell_type": "code",
      "execution_count": null,
      "metadata": {},
      "outputs": [],
      "source": [
        "\n",
        "# Feature importance (save plot)\n",
        "png(\"rf_feature_importance.png\", width = 1000, height = 600)\n",
        "varImpPlot(rf_model, main = \"Random Forest Variable Importance\")\n",
        "dev.off()\n",
        "\n",
        "rf_importance <- importance(rf_model)\n",
        "rf_importance_sorted <- rf_importance[order(rf_importance[,1], decreasing = TRUE), ]\n",
        "print(head(rf_importance_sorted, 20))\n",
        "\n",
        "# Optional: caret hyperparameter tuning (quick)\n",
        "rf_grid <- expand.grid(mtry = c(3, 5))\n",
        "train_control <- trainControl(method = \"cv\", number = 3)\n",
        "rf_tuned <- train(price ~ ., data = train_data, method = \"rf\",\n",
        "                  tuneGrid = rf_grid, trControl = train_control, ntree = 50)\n",
        "print(rf_tuned)\n"
      ]
    },
    {
      "cell_type": "code",
      "execution_count": null,
      "metadata": {},
      "outputs": [],
      "source": [
        "# ---- 7.3 XGBoost ----\n",
        "# Prepare matrices: ensure same predictors order\n",
        "preds <- setdiff(names(train_data), \"price\")\n",
        "train_matrix <- xgb.DMatrix(data = as.matrix(train_data[, preds]), label = train_data$price)\n",
        "test_matrix  <- xgb.DMatrix(data = as.matrix(test_data[, preds]), label = test_data$price)\n",
        "\n",
        "set.seed(123)\n",
        "xgb_model <- xgboost(data = train_matrix, max.depth = 4, eta = 0.2, nrounds = 30,\n",
        "                     objective = \"reg:squarederror\", verbose = 0, nthread = 4)\n",
        "\n",
        "xgb_pred <- predict(xgb_model, test_matrix)\n",
        "xgb_rmse <- sqrt(mean((test_data$price - xgb_pred)^2))\n",
        "xgb_mae  <- mae(test_data$price, xgb_pred)\n",
        "xgb_r2   <- R2(xgb_pred, test_data$price)\n",
        "\n",
        "# XGBoost importance & plot\n",
        "importance_matrix <- xgb.importance(feature_names = preds, model = xgb_model)\n",
        "png(\"xgb_feature_importance.png\", width = 1000, height = 600)\n",
        "xgb.plot.importance(importance_matrix)\n",
        "dev.off()"
      ]
    },
    {
      "cell_type": "code",
      "execution_count": null,
      "metadata": {},
      "outputs": [],
      "source": [
        "# ---- 7.4 Evaluation Summary ----\n",
        "cat(\"\\n--- Model Performance ---\\n\")\n",
        "cat(sprintf(\"Linear Regression -> RMSE: %.2f | MAE: %.2f | R²: %.3f\\n\", lm_rmse, lm_mae, lm_r2))\n",
        "cat(sprintf(\"Random Forest     -> RMSE: %.2f | MAE: %.2f | R²: %.3f\\n\", rf_rmse, rf_mae, rf_r2))\n",
        "cat(sprintf(\"XGBoost           -> RMSE: %.2f | MAE: %.2f | R²: %.3f\\n\", xgb_rmse, xgb_mae, xgb_r2))\n",
        "\n",
        "# ---- 7.5 ±10-15% check for the best model (here XGBoost) ----\n",
        "within_10 <- mean(abs((xgb_pred - test_data$price) / test_data$price) <= 0.10) * 100\n",
        "within_15 <- mean(abs((xgb_pred - test_data$price) / test_data$price) <= 0.15) * 100\n",
        "cat(sprintf(\"\\nXGBoost: %.1f%% of predictions are within ±10%% of actual price\\n\", within_10))\n",
        "cat(sprintf(\"XGBoost: %.1f%% of predictions are within ±15%% of actual price\\n\", within_15))\n",
        "\n",
        "# ---- 7.6 SHAP for XGBoost (interpretability) ----\n",
        "shap_values <- shap.values(xgb_model, X_train = as.matrix(train_data[, preds]))\n",
        "shap_long <- shap.prep(shap_contrib = shap_values$shap_score, X_train = as.matrix(train_data[, preds]))\n",
        "\n",
        "png(\"xgb_shap_summary.png\", width = 1000, height = 600)\n",
        "shap.plot.summary(shap_long)\n",
        "dev.off()\n",
        "cat(\"\\nSHAP summary plot saved as xgb_shap_summary.png (top features influencing price).\\n\")"
      ]
    }
  ],
  "metadata": {
    "colab": {
      "provenance": []
    },
    "kernelspec": {
      "display_name": "Python 3",
      "language": "python",
      "name": "python3"
    },
    "language_info": {
      "codemirror_mode": {
        "name": "ipython",
        "version": 3
      },
      "file_extension": ".py",
      "mimetype": "text/x-python",
      "name": "python",
      "nbconvert_exporter": "python",
      "pygments_lexer": "ipython3",
      "version": "3.9.1"
    }
  },
  "nbformat": 4,
  "nbformat_minor": 0
}
